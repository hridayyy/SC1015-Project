{
 "cells": [
  {
   "cell_type": "markdown",
   "metadata": {},
   "source": [
    "## Predictive Model"
   ]
  },
  {
   "cell_type": "code",
   "execution_count": 2,
   "metadata": {},
   "outputs": [
    {
     "name": "stdout",
     "output_type": "stream",
     "text": [
      "You are likely to have a heart disease based on our model. Our model has an accuracy score of 87%\n",
      "You are advised to see a doctor and work on a healthy lifestyle\n"
     ]
    }
   ],
   "source": [
    "# Using custom input from the data\n",
    "custom_input = [[45, 1, 2, 130, 234, 0, 1, 175, 0, 0.6, 2, 0, 2]]\n",
    "\n",
    "# Load the saved model weights\n",
    "model.load_weights(checkpoint_filepath)\n",
    "\n",
    "# Use the predict() method to make a prediction on the custom input\n",
    "prediction = model.predict(custom_input)\n",
    "\n",
    "# Round the predicted probability to the nearest integer to get a binary prediction\n",
    "prediction = round(prediction[0][0])\n",
    "\n",
    "# Print the prediction\n",
    "if prediction == 1:\n",
    "    print(\"You are likely to have a heart disease based on our model. Our model has an accuracy score of 87%\")\n",
    "    print(\"You are advised to see a doctor and work on a healthy lifestyle\")\n",
    "else:\n",
    "    print(\"You are not likely to have heart disease based on our model. Our model has an accuracy score of 87%\")\n",
    "    print(\"Keep up your healthy lifestyle\")"
   ]
  },
  {
   "cell_type": "markdown",
   "metadata": {},
   "source": [
    "### Insights Gained from Binary Classification Models"
   ]
  },
  {
   "cell_type": "markdown",
   "metadata": {},
   "source": [
    "1. Based on the accuracy scores of the following machine learning models, we can deduce that the Neural Network model is the most accurate model in predicting whether a person has heart disease or not as the model has the highest classification accuracy "
   ]
  },
  {
   "cell_type": "markdown",
   "metadata": {},
   "source": [
    "2. Based on the feature importance graphs of the 4 different models, we deduced that different variables have differing levels of importance for the the 4 different models. However, the feature of \"thal\" (blood disorder called thalassemia) has the highest feature importance for the Random Forest and Decision Tree classification model, hence we can deduce that \"thal\" is the most important variable in predicting heart disease as this variable is deemed to be the most important by 2 Machine Learning models. \n",
    "\n",
    "    The most important feature for the KNN model is \"Chestpain\" and the most important feature for the Logistic Regression model is \"sex\". This may not be accurate as based on our exploratory data analysis, we saw that there was no direct relationship between sex and presence of heart disease.\n",
    "    \n",
    "    This is line with our initial prediction based on our EDA that categorical variables have a stronger relationship with the    target variable compared to the numeric variables. From all the graphs regarding variable importance, categorical variables such as \"cp\",\"fbs\",\"slope\",\"ca\",\"thal\" have significant variable importance."
   ]
  },
  {
   "cell_type": "markdown",
   "metadata": {},
   "source": [
    "3. Early detection: Machine learning models can identify patterns and trends in patient data that indicate the early stages of heart disease & factors that can cause heart disease. For example, if doctors determine that a patient has \"thal\" type 1 (fixed defect: no blood flow in some part of the heart) and type 3 (reversible defect: a blood flow is observed but it is not normal), the doctor can conclude that there is a higher chance that this patient will have a heart disease compared to not having a heart disease. This can help doctors diagnose the condition at an earlier stage, allowing for earlier intervention and treatment.\n",
    "\n",
    "    If doctors determine that a patient has \"CP\" (Chest Pain) type 1,2,3, the doctor can conclude that there is a higher chance that this patient will have a heart disease compared to not having a heart disease. This is in line our count plot of Chest Pain type vs Total number of people with heart disease as well as our deduction from the Machine Learning models that Chest Pain is the most important feature for the KNN model in predicting heart disease. "
   ]
  },
  {
   "cell_type": "markdown",
   "metadata": {},
   "source": [
    "### Recommendations"
   ]
  },
  {
   "cell_type": "markdown",
   "metadata": {},
   "source": [
    "1. We had to use different metrice to deduce which variable is the most important in predicting heart disease. For the Decision Tree classifier & Random Forest Classifier we could use the in built feature importance method, however for the KNN model, we had to use the \"permutation feature importance method\". This method works by randomly permuting the values of each feature and then measuring how much the performance of the KNN algorithm decreases as a result. The larger the decrease in performance, the more important the feature is considered to be. For the Logistic Regression model, we used the coefficient value method. In logistic regression, each feature has a corresponding coefficient value that reflects its impact on the target variable. Features with higher absolute coefficient values are considered more important. Since we had to use different metrics across the different models to measure the feature importance, this could have had an effect on accuracy of the feature importance. Hence a recommendation would be to use the same metrics to measure the feature importance if possible.\n"
   ]
  },
  {
   "cell_type": "markdown",
   "metadata": {},
   "source": [
    "2. For better accuracy in predicting the most important feature in determining heart disease, we could have used a dataset with all possible factors that can help predict heart disease such as patient medical records, lab results, lifestyle factors, and genetic data. This would have helped to ensure that the models were able to capture a broad range of risk factors."
   ]
  },
  {
   "cell_type": "markdown",
   "metadata": {},
   "source": [
    "3. We could have used advanced machine learning techniques, such as deep learning and reinforcement learning, which can help improve the accuracy of heart disease prediction models. These techniques can help identify complex patterns and relationships in the data that might not be apparent using traditional machine learning algorithms."
   ]
  },
  {
   "cell_type": "markdown",
   "metadata": {},
   "source": [
    "### Final Insights about the Machine Learning Models (Advantages & Disadvantages)"
   ]
  },
  {
   "cell_type": "markdown",
   "metadata": {},
   "source": [
    "Through this project, we managed to uncover several advantages and disadvantages about the Machine Learning models. \n",
    "\n",
    "1. Decision Tree Classifier and Random Forest Classifier have an in built \"Feature Importance\" function which helps us deduce the importance of the features in the classification accurately. This is an advantage for these 2 models compared to Logistic Regression and KNN which do not have this feature.\n",
    "\n",
    "\n",
    "2. The Decision Tree Classifer model can easily overfit the training data, resulting in poor generalization on unseen data which makes this a disadvantage. However, the Random Forest Classifier reduces the problem of overfitting the training data as this model aggregates multiple decision trees and makes the prediction more accurate, which is an advantage of the Random Forest Classifier.\n",
    "\n",
    "\n",
    "3. The Logistic Regression model may not always be the most accurate model as this model assumes a linear relationship between the input variables and the output variable, which may not always be the case. This can be seen from the correlation matrix plotted in our EDA where the correlation continuous variables was low, which could result in a lower accuracy for the results. This is a disadvantage for this model.\n",
    "\n",
    "\n",
    "4. The performance of the KNN model depends on the value of K and the performance of the model can degrade significantly if the value of k is too small or too large, which is a disadvantage of this model. This is why we utilised the KNN model in a way that finds the optimal value of K which gives us the maximum accuracy and through this method we were able to overcome the disadvantage of this model.\n",
    "\n",
    "\n",
    "5. Neural network models have the advantage of being able to handle highly complex and non-linear relationships between input and output variables."
   ]
  }
 ],
 "metadata": {
  "colab": {
   "provenance": []
  },
  "kernelspec": {
   "display_name": "Python 3 (ipykernel)",
   "language": "python",
   "name": "python3"
  },
  "language_info": {
   "codemirror_mode": {
    "name": "ipython",
    "version": 3
   },
   "file_extension": ".py",
   "mimetype": "text/x-python",
   "name": "python",
   "nbconvert_exporter": "python",
   "pygments_lexer": "ipython3",
   "version": "3.9.12"
  }
 },
 "nbformat": 4,
 "nbformat_minor": 1
}
